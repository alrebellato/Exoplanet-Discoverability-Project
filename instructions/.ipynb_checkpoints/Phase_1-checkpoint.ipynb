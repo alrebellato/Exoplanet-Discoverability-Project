{
 "cells": [
  {
   "cell_type": "markdown",
   "id": "d6fc6b82-c84e-4f7e-88fb-ad87260abcff",
   "metadata": {},
   "source": [
    "# Phase 1 Quick Guide\n",
    "\n",
    "## Guide\n",
    "https://github.com/vaksakalli/stats_tutorials/blob/master/Sample_Phase1_Report.ipynb\n",
    "\n",
    "## Advanced Submission\n",
    "A Literature Review section with at least 600 words (worth 15 points out of 100)\n",
    "\n",
    "## Report Instructions\n",
    "\n",
    "1. Your report needs to contain a certain minimum number of different plots as part of the data exploration and visualisation tasks.\n",
    "   -  At least 4 plots of each one of the following: one-variable plots, two-variable plots, and three-variable plots (that is, minimum 4*3=12 plots in total)\n",
    "       1. For plotting, you are free to use whatever Python module you like: Matplotlib, Seaborn, Altair, Plotly, etc.\n",
    "       2. Your plots must be meaningful and they need to make sense with respect to the goals and objectives of your project.\n",
    "       3. As long as your plots are meaningful and relevant, there are no restrictions on the plot types. That is, you can have a mix of box-plots, histograms, line plots, scatter plots etc.\n",
    "       4. For each plot in your report, you will need to label the x- and y-axes as appropriate and also add a meaningful title.\n",
    "\n",
    "\n",
    "2. Your narrative (the text that you write) in each one of your project reports must be at least 1500 words (plus an additional 600 words for Advanced Submission Modes). And ideally it should be less than 3500 words (plus an additional 600 words for Advanced Submission Modes). As a clarification, Python code comments do not count as proper narrative. To be clear, our expectation here is professional project reports, not a quick and dirty summary of how your Python code works. For more information on this, please see the \"Good Writing Practices\" Section on this page.\n",
    "\n",
    "\n",
    "3. Your reports for both phases need to contain a Table of Contents. We are aware that sometimes Table of Contents in Jupyter notebooks are not clickable due to some technical issues. So it would be nice if your Table of Contents is clickable, but this is not a requirement.\n",
    "\n",
    "\n",
    "4. You need to include your source code in your reports. We cannot mark any project reports missing the source code. In addition, you will not get any credits for computer code that you do not execute: you will need to show us the output of your code.\n",
    "\n",
    "\n",
    "5. You will find this regression study useful. This study contains examples of data pre-processing and data exploration/ visualisation on a messy dataset as well as details on how you can run linear regression in Python. However, as a disclaimer, this regression case study is provided to give you a rough idea on what you could possibly do for your project. You should not assume that this case study fully address all the requirements as outlined in this Course Project Information page. You must read all the instructions herein and follow them closely for full credit.\n",
    "\n",
    "\n",
    "## Phase 1 Criteria\n",
    "![](criteria.png)\n",
    "\n",
    "## Dataset Requirements\n",
    "- Your dataset must have at least 200 < rows < 5000 and at least 8 descriptive features\n",
    "- No time datasets"
   ]
  },
  {
   "cell_type": "code",
   "execution_count": null,
   "id": "8c6c183a-7049-405b-acb7-cb3002243e76",
   "metadata": {},
   "outputs": [],
   "source": []
  }
 ],
 "metadata": {
  "kernelspec": {
   "display_name": "Python 3 (ipykernel)",
   "language": "python",
   "name": "python3"
  },
  "language_info": {
   "codemirror_mode": {
    "name": "ipython",
    "version": 3
   },
   "file_extension": ".py",
   "mimetype": "text/x-python",
   "name": "python",
   "nbconvert_exporter": "python",
   "pygments_lexer": "ipython3",
   "version": "3.9.5"
  }
 },
 "nbformat": 4,
 "nbformat_minor": 5
}
